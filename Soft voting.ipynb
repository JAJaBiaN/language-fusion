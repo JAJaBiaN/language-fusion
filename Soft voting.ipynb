{
 "cells": [
  {
   "cell_type": "code",
   "execution_count": 1,
   "metadata": {},
   "outputs": [],
   "source": [
    "import numpy as np"
   ]
  },
  {
   "cell_type": "code",
   "execution_count": 4,
   "metadata": {},
   "outputs": [],
   "source": [
    "def soft_vote(probs_list):\n",
    "    summed_probs = []\n",
    "    for i in range(len(probs_list[0])):\n",
    "        summed_probs.append(sum([class_probs[i] for class_probs in probs_list]))\n",
    "    print(summed_probs)\n",
    "    \n",
    "    classification = np.argmax(summed_probs)\n",
    "    return(classification)"
   ]
  },
  {
   "cell_type": "code",
   "execution_count": 7,
   "metadata": {},
   "outputs": [
    {
     "name": "stdout",
     "output_type": "stream",
     "text": [
      "[0.21470332 0.9086166  0.64832319 0.29052138 0.53134708 0.17714516\n",
      " 0.62998167 0.26950658 0.14184414 0.36016992]\n",
      "[0.79247791 0.79847437 0.38736636 0.79845188 0.8174241  0.60608002\n",
      " 0.95525017 0.43026133 0.22623382 0.46694551]\n",
      "[1.0071812234034057, 1.7070909699205523, 1.0356895483642083, 1.0889732603912072, 1.3487711740955697, 0.7832251837950079, 1.585231839466763, 0.6997679108791071, 0.36807796602357623, 0.827115424406727]\n",
      "1\n"
     ]
    }
   ],
   "source": [
    "a = np.random.rand(10)\n",
    "b = np.random.rand(10)\n",
    "print(a)\n",
    "print(b)\n",
    "\n",
    "print(soft_vote([a, b]))"
   ]
  }
 ],
 "metadata": {
  "kernelspec": {
   "display_name": "innov24",
   "language": "python",
   "name": "innov24"
  },
  "language_info": {
   "codemirror_mode": {
    "name": "ipython",
    "version": 3
   },
   "file_extension": ".py",
   "mimetype": "text/x-python",
   "name": "python",
   "nbconvert_exporter": "python",
   "pygments_lexer": "ipython3",
   "version": "3.11.5"
  }
 },
 "nbformat": 4,
 "nbformat_minor": 4
}
